{
 "cells": [
  {
   "cell_type": "code",
   "execution_count": 1,
   "metadata": {
    "collapsed": false
   },
   "outputs": [],
   "source": [
    "from meetup import meetups_api as meetup\n",
    "from meetup import tidy_meetup as get_df\n",
    "import numpy as np\n",
    "import pandas as pd\n",
    "import urllib\n",
    "import json\n",
    "import time\n",
    "import requests\n",
    "#mybinder"
   ]
  },
  {
   "cell_type": "code",
   "execution_count": 10,
   "metadata": {
    "collapsed": false
   },
   "outputs": [],
   "source": [
    "key = \"2e45d6103a21861521237661ae27\" #get key from https://www.meetup.com/meetup_api/ you can just open an account\n",
    "# then look for the tab API key then you ready to go\n",
    "places = np.load('main_cities.npy')"
   ]
  },
  {
   "cell_type": "markdown",
   "metadata": {},
   "source": [
    "### Import the groups data csv "
   ]
  },
  {
   "cell_type": "code",
   "execution_count": 12,
   "metadata": {
    "collapsed": false
   },
   "outputs": [
    {
     "data": {
      "text/html": [
       "<div>\n",
       "<table border=\"1\" class=\"dataframe\">\n",
       "  <thead>\n",
       "    <tr style=\"text-align: right;\">\n",
       "      <th></th>\n",
       "      <th>Children (&lt; 16 years)</th>\n",
       "      <th>Young adults (16 - 24 years)</th>\n",
       "      <th>Adults (25 - 49 years)</th>\n",
       "      <th>Older people (&gt; 50 years)</th>\n",
       "      <th>Welsh translation</th>\n",
       "      <th>Polish translation</th>\n",
       "    </tr>\n",
       "  </thead>\n",
       "  <tbody>\n",
       "    <tr>\n",
       "      <th>0</th>\n",
       "      <td>Sport</td>\n",
       "      <td>Sport</td>\n",
       "      <td>Sport</td>\n",
       "      <td>Sport</td>\n",
       "      <td>Chwaraeon</td>\n",
       "      <td>Sport</td>\n",
       "    </tr>\n",
       "    <tr>\n",
       "      <th>1</th>\n",
       "      <td>NaN</td>\n",
       "      <td>Yoga</td>\n",
       "      <td>Yoga</td>\n",
       "      <td>Yoga</td>\n",
       "      <td>Yoga</td>\n",
       "      <td>Joga</td>\n",
       "    </tr>\n",
       "    <tr>\n",
       "      <th>2</th>\n",
       "      <td>NaN</td>\n",
       "      <td>Bokwa</td>\n",
       "      <td>Bokwa</td>\n",
       "      <td>Bokwa</td>\n",
       "      <td>Bokwa</td>\n",
       "      <td>Bokwa</td>\n",
       "    </tr>\n",
       "    <tr>\n",
       "      <th>3</th>\n",
       "      <td>NaN</td>\n",
       "      <td>Fitness</td>\n",
       "      <td>Fitness</td>\n",
       "      <td>Fitness</td>\n",
       "      <td>Ffitrwydd</td>\n",
       "      <td>Zdatność</td>\n",
       "    </tr>\n",
       "    <tr>\n",
       "      <th>4</th>\n",
       "      <td>Gym</td>\n",
       "      <td>Gym</td>\n",
       "      <td>Gym</td>\n",
       "      <td>Gym</td>\n",
       "      <td>Campfa</td>\n",
       "      <td>Siłownia</td>\n",
       "    </tr>\n",
       "  </tbody>\n",
       "</table>\n",
       "</div>"
      ],
      "text/plain": [
       "  Children (< 16 years) Young adults (16 - 24 years) Adults (25 - 49 years)  \\\n",
       "0                 Sport                        Sport                  Sport   \n",
       "1                   NaN                         Yoga                   Yoga   \n",
       "2                   NaN                        Bokwa                  Bokwa   \n",
       "3                   NaN                      Fitness                Fitness   \n",
       "4                   Gym                          Gym                    Gym   \n",
       "\n",
       "  Older people (> 50 years) Welsh translation Polish translation  \n",
       "0                     Sport         Chwaraeon              Sport  \n",
       "1                      Yoga              Yoga               Joga  \n",
       "2                     Bokwa             Bokwa              Bokwa  \n",
       "3                   Fitness         Ffitrwydd           Zdatność  \n",
       "4                       Gym            Campfa           Siłownia  "
      ]
     },
     "execution_count": 12,
     "metadata": {},
     "output_type": "execute_result"
    }
   ],
   "source": [
    "data = pd.read_csv('Loneliness group key words.csv')\n",
    "data.head()"
   ]
  },
  {
   "cell_type": "markdown",
   "metadata": {},
   "source": [
    "### Concatenating all the different colmuns:\n",
    "* this piece of code drops all the duplicates, drops all NA values and sorts them in alphabetical order"
   ]
  },
  {
   "cell_type": "code",
   "execution_count": 13,
   "metadata": {
    "collapsed": false
   },
   "outputs": [],
   "source": [
    "# all Groups in the English Language\n",
    "data_1 = pd.concat([data['Children (< 16 years)'],\n",
    "                   data['Young adults (16 - 24 years)'],\n",
    "                   data['Adults (25 - 49 years)'],\n",
    "                   data['Older people (> 50 years)']\n",
    "                  ]).drop_duplicates().dropna().sort_values().reset_index(drop=True)"
   ]
  },
  {
   "cell_type": "code",
   "execution_count": 14,
   "metadata": {
    "collapsed": false
   },
   "outputs": [],
   "source": [
    "# all Groups in Welsh and Polish\n",
    "data_2 = pd.concat([data['Welsh translation'],\n",
    "                   data['Polish translation']\n",
    "                  ]).drop_duplicates().dropna().sort_values().reset_index(drop=True)"
   ]
  },
  {
   "cell_type": "code",
   "execution_count": 17,
   "metadata": {
    "collapsed": false
   },
   "outputs": [
    {
     "data": {
      "text/plain": [
       "90"
      ]
     },
     "execution_count": 17,
     "metadata": {},
     "output_type": "execute_result"
    }
   ],
   "source": [
    "len(data_1)"
   ]
  },
  {
   "cell_type": "code",
   "execution_count": 15,
   "metadata": {
    "collapsed": false,
    "scrolled": true
   },
   "outputs": [
    {
     "name": "stdout",
     "output_type": "stream",
     "text": [
      "----5 urls created----\n"
     ]
    },
    {
     "ename": "KeyboardInterrupt",
     "evalue": "",
     "output_type": "error",
     "traceback": [
      "\u001b[0;31m---------------------------------------------------------------------------\u001b[0m",
      "\u001b[0;31mKeyboardInterrupt\u001b[0m                         Traceback (most recent call last)",
      "\u001b[0;32m<ipython-input-15-7c639c676072>\u001b[0m in \u001b[0;36m<module>\u001b[0;34m()\u001b[0m\n\u001b[1;32m      1\u001b[0m \u001b[0;31m#just to see what it looks like\u001b[0m\u001b[0;34m\u001b[0m\u001b[0;34m\u001b[0m\u001b[0m\n\u001b[1;32m      2\u001b[0m \u001b[0;31m#this function will also save the raw data in a txt into your current working dir\u001b[0m\u001b[0;34m\u001b[0m\u001b[0;34m\u001b[0m\u001b[0m\n\u001b[0;32m----> 3\u001b[0;31m \u001b[0mmeetup\u001b[0m\u001b[0;34m(\u001b[0m\u001b[0mplaces\u001b[0m\u001b[0;34m[\u001b[0m\u001b[0;36m5\u001b[0m\u001b[0;34m:\u001b[0m\u001b[0;36m10\u001b[0m\u001b[0;34m]\u001b[0m\u001b[0;34m,\u001b[0m \u001b[0;34m'marathon'\u001b[0m\u001b[0;34m,\u001b[0m \u001b[0mkey\u001b[0m\u001b[0;34m,\u001b[0m \u001b[0msearch_radius\u001b[0m\u001b[0;34m=\u001b[0m\u001b[0;36m100\u001b[0m\u001b[0;34m)\u001b[0m\u001b[0;34m\u001b[0m\u001b[0m\n\u001b[0m",
      "\u001b[0;32m/home/onsbigdata/Documents/Loneliness/meetup.py\u001b[0m in \u001b[0;36mmeetups_api\u001b[0;34m(places, topic, key, search_radius)\u001b[0m\n\u001b[1;32m     34\u001b[0m         \u001b[0;32mfor\u001b[0m \u001b[0murl\u001b[0m \u001b[0;32min\u001b[0m \u001b[0murls\u001b[0m\u001b[0;34m:\u001b[0m\u001b[0;34m\u001b[0m\u001b[0m\n\u001b[1;32m     35\u001b[0m                 \u001b[0;31m#counter += 1\u001b[0m\u001b[0;34m\u001b[0m\u001b[0;34m\u001b[0m\u001b[0m\n\u001b[0;32m---> 36\u001b[0;31m                 \u001b[0mtime\u001b[0m\u001b[0;34m.\u001b[0m\u001b[0msleep\u001b[0m\u001b[0;34m(\u001b[0m\u001b[0;36m5\u001b[0m\u001b[0;34m)\u001b[0m\u001b[0;34m\u001b[0m\u001b[0m\n\u001b[0m\u001b[1;32m     37\u001b[0m                 \u001b[0mresponse\u001b[0m \u001b[0;34m=\u001b[0m \u001b[0mrequests\u001b[0m\u001b[0;34m.\u001b[0m\u001b[0mget\u001b[0m\u001b[0;34m(\u001b[0m\u001b[0murl\u001b[0m\u001b[0;34m)\u001b[0m\u001b[0;34m\u001b[0m\u001b[0m\n\u001b[1;32m     38\u001b[0m                 \u001b[0mdata\u001b[0m \u001b[0;34m=\u001b[0m\u001b[0mresponse\u001b[0m\u001b[0;34m.\u001b[0m\u001b[0mjson\u001b[0m\u001b[0;34m(\u001b[0m\u001b[0;34m)\u001b[0m\u001b[0;34m\u001b[0m\u001b[0m\n",
      "\u001b[0;31mKeyboardInterrupt\u001b[0m: "
     ]
    }
   ],
   "source": [
    "#just to see what it looks like\n",
    "#this function will also save the raw data in a txt into your current working dir\n",
    "meetup(places[5:10], 'marathon', key, search_radius=100)"
   ]
  },
  {
   "cell_type": "markdown",
   "metadata": {},
   "source": [
    "### Getting everything into a nice DataFrame\n",
    "* call function **get_df()** which put your data into a DataFrame"
   ]
  },
  {
   "cell_type": "code",
   "execution_count": 3,
   "metadata": {
    "collapsed": false,
    "scrolled": true
   },
   "outputs": [
    {
     "name": "stdout",
     "output_type": "stream",
     "text": [
      "--(meetup_mum.npy) doesn't exist--\n",
      "--please check/move file into current working directory--\n"
     ]
    }
   ],
   "source": [
    "get_df('mum')"
   ]
  },
  {
   "cell_type": "markdown",
   "metadata": {},
   "source": [
    "### Loop through all the topics"
   ]
  },
  {
   "cell_type": "code",
   "execution_count": 10,
   "metadata": {
    "collapsed": false
   },
   "outputs": [],
   "source": [
    "import urllib3\n",
    "import os\n",
    "import time\n",
    "import facebook\n",
    "from facebook import GraphAPIError\n",
    "import requests\n",
    "import json\n",
    "import numpy as np\n",
    "import pandas as pd\n",
    "\n",
    "token = 'EAADe3adNZCDABAA5yvwpiND92QZBV9Y7FqUliL2WfCS0cgtkTb7CamZCNfqssC6rijoo1FZBMzMSd8zgxDkx9aidWJAYShQiOjDCo1E4h3iSOCvZAxXkQSBia9ZCuvB5i8IAAwXQtepD06pZAvOPx0RFJFTTCx8kbt2x8oP8I7wkZCz7dXGrZAlXI'\n",
    "\n",
    "\n",
    "def fb_pagefinder(activity, center, search_radius, token=token):\n",
    "    lat = center[0]\n",
    "    lng = center[1]\n",
    "#     try:\n",
    "    graph = facebook.GraphAPI(access_token=token, timeout=200)\n",
    "    events = graph.request(\n",
    "        'search?q=events%20{}&fields=name,id,description,location&type=place&center={},{}&distance={}&limit=100'.format(\n",
    "        activity, lat, lng, search_radius))\n",
    "#     except GraphAPIError:\n",
    "#         raise\n",
    "#         time.sleep(5)\n",
    "#         graph = facebook.GraphAPI(access_token=token, timeout=200)\n",
    "#         events = graph.request(\n",
    "#     'search?q=events%20{}&fields=name,id,description,location&type=place&center={},{}&distance={}&limit=100'.format(\n",
    "#         activity, lat, lng, search_radius))\n",
    "    return events\n",
    "\n",
    "\n",
    "def fb_api(activity, center, search_radius):\n",
    "    events = []\n",
    "    if cenr != 'Nan':\n",
    "        search = fb_pagefinder(activity, center, search_radius)\n",
    "        time.sleep(5)\n",
    "        if len(events['data']) == 0:\n",
    "            pass\n",
    "        else:\n",
    "            events.append(search)\n",
    "            geolocator = Nominatim()\n",
    "            location = geolocator.geocode(\n",
    "                [center[0], center[1]], timeout=120)\n",
    "            print(counter, \"--\" + location.address[:70])\n",
    "    else:\n",
    "        pass\n",
    "    return events\n",
    "\n",
    "\n",
    "def pagination(o, activity):\n",
    "    all_events = []\n",
    "    if ('paging' in o):\n",
    "#         for data in o:\n",
    "        if ('next' in o['paging']):\n",
    "            resp = requests.get(o['paging']['next'])\n",
    "            all_events.append(resp.json())\n",
    "        elif ('after' in o['paging']['cursors']):\n",
    "            new_url = URL + o['paging']['cursors']['after']\n",
    "            resp = requests.get(new_url)\n",
    "            all_events.append(resp.json())\n",
    "        else:\n",
    "             print(\"Something went wrong\")\n",
    "\n",
    "    new_npy = np.load('facebook_data/fb_%s.npy'%activity) if os.path.isfile('facebook_data/fb_%s.npy'%activity) else [] #get data if exist\n",
    "    np.save('facebook_data/fb_%s.npy'%activity,np.append(new_npy,all_events)) #save the new\n",
    "    return all_events\n",
    "\n",
    "        \n",
    "def fb_main(activity, center, search_radius, token=token):\n",
    "    o = fb_pagefinder(activity, center, search_radius, token=token)\n",
    "    fb_data = pagination(o, activity)\n",
    "    \n",
    "\n",
    "    \n",
    "def get_df(activity):\n",
    "    message= \"--(fb_%s.npy) doesn't exist--\"%activity\n",
    "    data= 'facebook_data/fb_%s.npy'%activity\n",
    "    \n",
    "    fb_data = np.load(data) if os.path.isfile(data) else print(message)\n",
    "    \n",
    "    if len(fb_data) != 0:\n",
    "        fb_info =fb_data[0]['data']\n",
    "        \n",
    "        grp_id,name,location,latitude,longitude=[],[],[],[],[]\n",
    "        \n",
    "        for i in fb_info:\n",
    "            grp_id.append(i['id'])\n",
    "            name.append(i['name'])\n",
    "            location.append(i['location'])\n",
    "            \n",
    "        df = pd.DataFrame([grp_id,name,location]).T\n",
    "        df.columns=['grp_id','name','location']\n",
    "        return df\n",
    "    \n",
    "    else:\n",
    "        print('--no data---')\n",
    "        pass"
   ]
  },
  {
   "cell_type": "code",
   "execution_count": 11,
   "metadata": {
    "collapsed": true
   },
   "outputs": [],
   "source": [
    "cities = np.load('main_cities.npy')"
   ]
  },
  {
   "cell_type": "code",
   "execution_count": null,
   "metadata": {
    "collapsed": false,
    "scrolled": false
   },
   "outputs": [
    {
     "name": "stdout",
     "output_type": "stream",
     "text": [
      "--[ 51.89107295  -0.42303041]--counter--1--\n",
      "--[ 51.456659   -0.9696512]--counter--2--\n",
      "(#613) Calls to this api have exceeded the rate limit.\n",
      "--[ 52.5738875  -0.2416701]--counter--4--\n",
      "--[ 53.4018582   -2.56802236]--counter--5--\n",
      "--[ 50.338466   -4.7882104]--counter--6--\n",
      "--[ 54.53525645  -1.55294298]--counter--7--\n",
      "--[ 54.8948478  -2.9362311]--counter--8--\n",
      "--[ 52.9212617  -1.4761491]--counter--9--\n",
      "--[ 50.3712659  -4.1425658]--counter--10--\n",
      "--[ 50.74467035  -1.8579809 ]--counter--11--\n",
      "--[ 53.7435722  -0.3394758]--counter--12--\n",
      "--[ 50.84522125  -0.14975851]--counter--13--\n",
      "--[ 51.6020246  -0.9153487]--counter--14--\n",
      "--[ 51.8653705  -2.2458192]--counter--15--\n",
      "(#613) Calls to this api have exceeded the rate limit.\n",
      "--[ 53.4791301  -2.2441009]--counter--17--\n",
      "--[ 50.9025349  -1.404189 ]--counter--18--\n",
      "--[ 52.0553813  -2.7151735]--counter--19--\n",
      "--[ 51.6553875  -0.3957425]--counter--20--\n",
      "--[ 50.72414995  -1.17274588]--counter--21--\n",
      "--[ 51.3876562   0.5457712]--counter--22--\n",
      "--[ 53.8182212  -3.0564845]--counter--23--\n",
      "--[ 52.6361398  -1.1330789]--counter--24--\n",
      "--[ 53.5677371  -0.0736289]--counter--25--\n",
      "--[ 53.4054719  -2.9805392]--counter--26--\n",
      "--[ 52.628606   1.29227 ]--counter--27--\n",
      "--[ 53.9590555  -1.0815361]--counter--28--\n",
      "(#613) Calls to this api have exceeded the rate limit.\n",
      "--[ 55.1241236  -1.5018084]--counter--30--\n",
      "--[ 52.9534161  -1.1492773]--counter--31--\n",
      "--[ 51.7520131  -1.2578499]--counter--32--\n",
      "--[ 52.6699351  -0.7284623]--counter--33--\n",
      "--[ 52.6780419  -2.4514273]--counter--34--\n",
      "--[ 51.3813864  -2.3596963]--counter--35--\n",
      "--[ 53.3806626  -1.4702278]--counter--36--\n",
      "--[ 53.0162014  -2.1812607]--counter--37--\n",
      "--[ 52.0579495   1.1526345]--counter--38--\n",
      "--[ 51.2352672  -0.5653624]--counter--39--\n",
      "--[ 54.9770924  -1.6142059]--counter--40--\n",
      "--[ 52.5246182  -1.4684488]--counter--41--\n",
      "(#613) Calls to this api have exceeded the rate limit.\n"
     ]
    }
   ],
   "source": [
    "counter = 0\n",
    "for city in cities:\n",
    "    counter += 1\n",
    "    time.sleep(18)\n",
    "    try:\n",
    "        fb_main('Weightwatchers', city,16093.4)\n",
    "    except GraphAPIError as e:\n",
    "        err1 = 'Please retry your request later'\n",
    "        err2 = 'request limit reached'\n",
    "        err3 = 'exceeded the rate limit'\n",
    "\n",
    "        if err1 in str(e):\n",
    "            print(e)\n",
    "            time.sleep(600)\n",
    "            continue\n",
    "\n",
    "        elif err2 in str(e):\n",
    "            print(e)\n",
    "            time.sleep(600)\n",
    "            continue\n",
    "\n",
    "        elif err3 in str(e):\n",
    "            print(e)\n",
    "            time.sleep(1800)\n",
    "            continue\n",
    "        else:\n",
    "            raise e\n",
    "\n",
    "    print('--%s--counter--%d--'%(city,counter))"
   ]
  },
  {
   "cell_type": "code",
   "execution_count": null,
   "metadata": {
    "collapsed": true
   },
   "outputs": [],
   "source": []
  }
 ],
 "metadata": {
  "kernelspec": {
   "display_name": "Python 3",
   "language": "python",
   "name": "python3"
  },
  "language_info": {
   "codemirror_mode": {
    "name": "ipython",
    "version": 3
   },
   "file_extension": ".py",
   "mimetype": "text/x-python",
   "name": "python",
   "nbconvert_exporter": "python",
   "pygments_lexer": "ipython3",
   "version": "3.6.0"
  }
 },
 "nbformat": 4,
 "nbformat_minor": 2
}
