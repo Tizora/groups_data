{
 "cells": [
  {
   "cell_type": "code",
   "execution_count": 1,
   "metadata": {
    "collapsed": false
   },
   "outputs": [],
   "source": [
    "from meetup import meetups_api as meetup\n",
    "from meetup import tidy_meetup as get_df\n",
    "import numpy as np\n",
    "import pandas as pd\n",
    "import urllib\n",
    "import json\n",
    "import time\n",
    "import requests\n",
    "#mybinder"
   ]
  },
  {
   "cell_type": "code",
   "execution_count": 2,
   "metadata": {
    "collapsed": false
   },
   "outputs": [],
   "source": [
    "key = \"2e45d6103a21861521237661ae27\" #get key from https://www.meetup.com/meetup_api/ you can just open an account\n",
    "# then look for the tab API key then you ready to go\n",
    "places = np.load('main_cities.npy')"
   ]
  },
  {
   "cell_type": "markdown",
   "metadata": {},
   "source": [
    "### Import the groups data csv "
   ]
  },
  {
   "cell_type": "code",
   "execution_count": null,
   "metadata": {
    "collapsed": false
   },
   "outputs": [],
   "source": [
    "data = pd.read_csv('Loneliness group key words.csv')\n",
    "data.head()"
   ]
  },
  {
   "cell_type": "markdown",
   "metadata": {},
   "source": [
    "### Concatenating all the different colmuns:\n",
    "* this piece of code drops all the duplicates, drops all NA values and sorts them in alphabetical order"
   ]
  },
  {
   "cell_type": "code",
   "execution_count": null,
   "metadata": {
    "collapsed": false
   },
   "outputs": [],
   "source": [
    "# all Groups in the English Language\n",
    "data_1 = pd.concat([data['Children (< 16 years)'],\n",
    "                   data['Young adults (16 - 24 years)'],\n",
    "                   data['Adults (25 - 49 years)'],\n",
    "                   data['Older people (> 50 years)']\n",
    "                  ]).drop_duplicates().dropna().sort_values().reset_index(drop=True)"
   ]
  },
  {
   "cell_type": "code",
   "execution_count": null,
   "metadata": {
    "collapsed": false
   },
   "outputs": [],
   "source": [
    "# all Groups in Welsh and Polish\n",
    "data_2 = pd.concat([data['Welsh translation'],\n",
    "                   data['Polish translation']\n",
    "                  ]).drop_duplicates().dropna().sort_values().reset_index(drop=True)"
   ]
  },
  {
   "cell_type": "code",
   "execution_count": null,
   "metadata": {
    "collapsed": false,
    "scrolled": true
   },
   "outputs": [],
   "source": [
    "#just to see what it looks like\n",
    "#this function will also save the raw data in a txt into your current working dir\n",
    "meetup(places[5:10], 'marathon', key, search_radius=100)"
   ]
  },
  {
   "cell_type": "markdown",
   "metadata": {},
   "source": [
    "### Getting everything into a nice DataFrame\n",
    "* call function **get_df()** which put your data into a DataFrame"
   ]
  },
  {
   "cell_type": "code",
   "execution_count": 3,
   "metadata": {
    "collapsed": false,
    "scrolled": true
   },
   "outputs": [
    {
     "name": "stdout",
     "output_type": "stream",
     "text": [
      "--(meetup_mum.npy) doesn't exist--\n",
      "--please check/move file into current working directory--\n"
     ]
    }
   ],
   "source": [
    "get_df('mum')"
   ]
  },
  {
   "cell_type": "markdown",
   "metadata": {},
   "source": [
    "### Loop through all the topics"
   ]
  },
  {
   "cell_type": "code",
   "execution_count": null,
   "metadata": {
    "collapsed": true
   },
   "outputs": [],
   "source": []
  }
 ],
 "metadata": {
  "kernelspec": {
   "display_name": "Python 3",
   "language": "python",
   "name": "python3"
  },
  "language_info": {
   "codemirror_mode": {
    "name": "ipython",
    "version": 3
   },
   "file_extension": ".py",
   "mimetype": "text/x-python",
   "name": "python",
   "nbconvert_exporter": "python",
   "pygments_lexer": "ipython3",
   "version": "3.6.0"
  }
 },
 "nbformat": 4,
 "nbformat_minor": 2
}
