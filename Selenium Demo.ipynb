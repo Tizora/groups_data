{
 "cells": [
  {
   "cell_type": "markdown",
   "metadata": {},
   "source": [
    "### imports "
   ]
  },
  {
   "cell_type": "code",
   "execution_count": 73,
   "metadata": {
    "collapsed": true
   },
   "outputs": [],
   "source": [
    "from selenium import webdriver\n",
    "from selenium.webdriver.common.keys import Keys\n",
    "from selenium.webdriver.support.ui import WebDriverWait as wait\n",
    "from selenium.webdriver.support import expected_conditions as ec\n",
    "from selenium.common.exceptions import StaleElementReferenceException\n",
    "from selenium.webdriver.common.by import By\n",
    "import time"
   ]
  },
  {
   "cell_type": "markdown",
   "metadata": {},
   "source": [
    "### Opening the web page you need to crawl"
   ]
  },
  {
   "cell_type": "code",
   "execution_count": 123,
   "metadata": {
    "collapsed": true
   },
   "outputs": [],
   "source": [
    "url = 'https://devtracker.dfid.gov.uk/department/DFID'\n",
    "driver = webdriver.Chrome()\n",
    "driver.get(url)"
   ]
  },
  {
   "cell_type": "markdown",
   "metadata": {},
   "source": [
    "### Looking for elements  and doing something with those elements\n",
    "In this example we are going to demo a google search"
   ]
  },
  {
   "cell_type": "code",
   "execution_count": 129,
   "metadata": {
    "collapsed": false
   },
   "outputs": [],
   "source": [
    "#--> imports\n",
    "from selenium import webdriver\n",
    "from selenium.webdriver.common.keys import Keys\n",
    "from selenium.webdriver.support.ui import WebDriverWait as wait\n",
    "from selenium.webdriver.support import expected_conditions as ec\n",
    "from selenium.common.exceptions import StaleElementReferenceException\n",
    "from selenium.webdriver.common.by import By\n",
    "import time\n",
    "\n",
    "\n",
    "#--> defining url and driver\n",
    "url = 'https://devtracker.dfid.gov.uk/department/DFID'\n",
    "driver = webdriver.Chrome()\n",
    "driver.get(url)\n",
    "\n",
    "\n",
    "#--> getting all the elements coontaining project identifiers\n",
    "project_ids = [] # list to store ids on a page\n",
    "def get_ids(driver):\n",
    "    # waiting for elements to load on to the page\n",
    "    expectation = ec.presence_of_all_elements_located((\n",
    "        By.XPATH,'//span[contains(text(), \"Project Identifier: \")]/em'))\n",
    "    elements  = wait(driver, 30).until(expectation)\n",
    "    for element in elements:\n",
    "        project_ids.append(element.text)\n",
    "    return project_ids\n",
    "\n",
    "\n",
    "#--> getting the number of pages to  loop through\n",
    "num_pgs= driver.find_element_by_xpath(\n",
    "    '((//div[@class=\"light-pagination compact-theme simple-pagination\"])[1]' \n",
    "    +'/descendant::a[@class=\"page-link\"])[last()]')\n",
    "\n",
    "\n",
    "#--> the next button\n",
    "next_pg = driver.find_element_by_xpath('(//a[@class=\"page-link next\"])[1]')\n",
    "\n",
    "\n",
    "#--> getting ids from all pages\n",
    "all_ids  = [] # storing all ids on all pages\n",
    "for x in range(int(num_pgs.text)-1):\n",
    "    try:\n",
    "        all_ids.append(get_ids(driver))\n",
    "        time.sleep(1)\n",
    "        next_pg.click()\n",
    "    except StaleElementReferenceException:\n",
    "        time.sleep(2)\n",
    "        driver.find_element_by_xpath(\n",
    "            '(//a[@class=\"page-link next\"])[1]').click()\n",
    "    print('page %s' % x)\n",
    "print('----Task completed----')\n",
    "driver.close()\n",
    "\n",
    "#--> results\n",
    "all_ids"
   ]
  },
  {
   "cell_type": "code",
   "execution_count": 8,
   "metadata": {
    "collapsed": false
   },
   "outputs": [
    {
     "ename": "TypeError",
     "evalue": "'presence_of_all_elements_located' object is not iterable",
     "output_type": "error",
     "traceback": [
      "\u001b[0;31m---------------------------------------------------------------------------\u001b[0m",
      "\u001b[0;31mTypeError\u001b[0m                                 Traceback (most recent call last)",
      "\u001b[0;32m<ipython-input-8-7a5f2975f35b>\u001b[0m in \u001b[0;36m<module>\u001b[0;34m()\u001b[0m\n\u001b[0;32m----> 1\u001b[0;31m \u001b[0;32mfor\u001b[0m \u001b[0melement\u001b[0m \u001b[0;32min\u001b[0m \u001b[0melements\u001b[0m\u001b[0;34m:\u001b[0m\u001b[0;34m\u001b[0m\u001b[0m\n\u001b[0m\u001b[1;32m      2\u001b[0m     \u001b[0mprint\u001b[0m\u001b[0;34m(\u001b[0m\u001b[0melement\u001b[0m\u001b[0;34m.\u001b[0m\u001b[0mtext\u001b[0m\u001b[0;34m)\u001b[0m\u001b[0;34m\u001b[0m\u001b[0m\n",
      "\u001b[0;31mTypeError\u001b[0m: 'presence_of_all_elements_located' object is not iterable"
     ]
    }
   ],
   "source": [
    "for element in elements:\n",
    "    print(element.text)"
   ]
  },
  {
   "cell_type": "code",
   "execution_count": null,
   "metadata": {
    "collapsed": true
   },
   "outputs": [],
   "source": [
    "#next page\n",
    "driver.find_element_by_xpath('(//a[@class=\"page-link next\"])[1]')"
   ]
  },
  {
   "cell_type": "code",
   "execution_count": null,
   "metadata": {
    "collapsed": true
   },
   "outputs": [],
   "source": [
    "\n",
    "search_bar.send_keys('how to use selenium in python')\n",
    "time.sleep(10)\n",
    "earch_bar.ssend_keys(Keys.RETURN) # hitting enter\n",
    "top_results = driver.find_elements_by_xpath('//h3[@class=\"r\"]/a')"
   ]
  },
  {
   "cell_type": "code",
   "execution_count": 4,
   "metadata": {
    "collapsed": false
   },
   "outputs": [
    {
     "data": {
      "text/plain": [
       "14"
      ]
     },
     "execution_count": 4,
     "metadata": {},
     "output_type": "execute_result"
    }
   ],
   "source": [
    "len(top_results)"
   ]
  },
  {
   "cell_type": "code",
   "execution_count": 5,
   "metadata": {
    "collapsed": false
   },
   "outputs": [
    {
     "name": "stdout",
     "output_type": "stream",
     "text": [
      "2. Getting Started — Selenium Python Bindings 2 documentation\n",
      "Selenium with Python — Selenium Python Bindings 2 documentation\n",
      "How to Use Selenium with Python: Complete Tutorial - Guru99\n",
      "How to use Selenium with Python? - Stack Overflow\n",
      "selenium · PyPI\n",
      "Selenium Tutorial: Web Scraping with Selenium and Python\n",
      "Example code for using the Selenium 2 Python bindings. · GitHub\n",
      "Modern Web Automation With Python and Selenium – Real Python\n",
      "Getting Started with Selenium and Python | CrossBrowserTesting\n",
      "Selenium Webdriver Python Tutorial for Web Automation Testing\n",
      "\n",
      "\n",
      "\n",
      "\n"
     ]
    }
   ],
   "source": [
    "for result in top_results:\n",
    "    print(result.text)"
   ]
  },
  {
   "cell_type": "code",
   "execution_count": 6,
   "metadata": {
    "collapsed": true
   },
   "outputs": [],
   "source": [
    "driver.close()"
   ]
  },
  {
   "cell_type": "markdown",
   "metadata": {
    "collapsed": true
   },
   "source": []
  }
 ],
 "metadata": {
  "kernelspec": {
   "display_name": "Python 3",
   "language": "python",
   "name": "python3"
  },
  "language_info": {
   "codemirror_mode": {
    "name": "ipython",
    "version": 3
   },
   "file_extension": ".py",
   "mimetype": "text/x-python",
   "name": "python",
   "nbconvert_exporter": "python",
   "pygments_lexer": "ipython3",
   "version": "3.6.0"
  }
 },
 "nbformat": 4,
 "nbformat_minor": 2
}
